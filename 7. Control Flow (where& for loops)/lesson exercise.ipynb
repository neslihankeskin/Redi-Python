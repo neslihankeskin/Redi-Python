{
 "cells": [
  {
   "cell_type": "code",
   "execution_count": 1,
   "id": "02023c8f-8d84-4f03-9063-ada18cbf3582",
   "metadata": {},
   "outputs": [
    {
     "name": "stdout",
     "output_type": "stream",
     "text": [
      "Number can be divided by 2\n"
     ]
    }
   ],
   "source": [
    "num=20 #, 25, 28, 30\n",
    "if num%2==0:\n",
    "    print(\"Number can be divided by 2\")\n",
    "else:\n",
    "    print(\"Number can't be divided by 2\")"
   ]
  },
  {
   "cell_type": "code",
   "execution_count": 2,
   "id": "6d7f5c71-b146-4e17-9751-e87a6e94a600",
   "metadata": {},
   "outputs": [
    {
     "name": "stdout",
     "output_type": "stream",
     "text": [
      "Number can't be divided by 2\n"
     ]
    }
   ],
   "source": [
    "num2=25\n",
    "if num2%2==0:\n",
    "    print(\"Number can be divided by 2\")\n",
    "else:\n",
    "    print(\"Number can't be divided by 2\")"
   ]
  },
  {
   "cell_type": "code",
   "execution_count": 3,
   "id": "46093786-e616-4b48-849b-6e82b3b29116",
   "metadata": {},
   "outputs": [
    {
     "name": "stdout",
     "output_type": "stream",
     "text": [
      "Number can be divided by 2\n"
     ]
    }
   ],
   "source": [
    "num3=28\n",
    "if num3%2==0:\n",
    "    print(\"Number can be divided by 2\")\n",
    "else:\n",
    "    print(\"Number can't be divided by 2\")"
   ]
  },
  {
   "cell_type": "code",
   "execution_count": 4,
   "id": "6edb5e16-7fa6-40b0-ad9e-5e9572f53c5c",
   "metadata": {},
   "outputs": [
    {
     "name": "stdout",
     "output_type": "stream",
     "text": [
      "Number can be divided by 2\n"
     ]
    }
   ],
   "source": [
    "num4=30\n",
    "if num4%2==0:\n",
    "    print(\"Number can be divided by 2\")\n",
    "else:\n",
    "    print(\"Number can't be divided by 2\")"
   ]
  },
  {
   "cell_type": "code",
   "execution_count": 6,
   "id": "eb4e2fb3-d603-4114-9b81-547819337a3f",
   "metadata": {},
   "outputs": [
    {
     "name": "stdout",
     "output_type": "stream",
     "text": [
      "hello # 0\n",
      "hello # 1\n",
      "hello # 2\n",
      "hello # 3\n",
      "hello # 4\n",
      "hello # 5\n",
      "hello # 6\n",
      "hello # 7\n",
      "hello # 8\n",
      "hello # 9\n"
     ]
    }
   ],
   "source": [
    "num = 0\n",
    "while num < 10:\n",
    "    print(\"hello #\", num)\n",
    "    num= num +1"
   ]
  },
  {
   "cell_type": "code",
   "execution_count": null,
   "id": "a6e63803-3384-41e0-bf7d-bb8b0c085227",
   "metadata": {},
   "outputs": [],
   "source": [
    "while num=0 < 10:\n",
    "    print(\" hello # 0)\n",
    "    num=0 + 1\n",
    "while num=1< 10:\n",
    "    print(\"hello #1)\n",
    "    num= 1+1\n",
    "\n",
    "while num=9<10:\n",
    "    print(\"hello #9\")\n",
    "    num= 9+1\n",
    "          \n",
    "while num=10<10: False\n",
    "          stop\n"
   ]
  },
  {
   "cell_type": "code",
   "execution_count": 7,
   "id": "5b1fee28-4d03-4f20-a1c9-3e76b4ad3264",
   "metadata": {},
   "outputs": [
    {
     "name": "stdin",
     "output_type": "stream",
     "text": [
      "tell me something interesting: stop asking me\n"
     ]
    },
    {
     "name": "stdout",
     "output_type": "stream",
     "text": [
      "you told me stop asking me\n"
     ]
    },
    {
     "name": "stdin",
     "output_type": "stream",
     "text": [
      "tell me something interesting: I dont know what\n"
     ]
    },
    {
     "name": "stdout",
     "output_type": "stream",
     "text": [
      "you told me I dont know what\n"
     ]
    },
    {
     "name": "stdin",
     "output_type": "stream",
     "text": [
      "tell me something interesting: It is sunny outside\n"
     ]
    },
    {
     "name": "stdout",
     "output_type": "stream",
     "text": [
      "you told me It is sunny outside\n"
     ]
    },
    {
     "name": "stdin",
     "output_type": "stream",
     "text": [
      "tell me something interesting: Stop\n"
     ]
    },
    {
     "name": "stdout",
     "output_type": "stream",
     "text": [
      "you told me Stop\n"
     ]
    },
    {
     "name": "stdin",
     "output_type": "stream",
     "text": [
      "tell me something interesting: stop\n"
     ]
    },
    {
     "name": "stdout",
     "output_type": "stream",
     "text": [
      "you told me stop\n",
      "you told me stop. I am stopping\n"
     ]
    }
   ],
   "source": [
    "text = \" \"\n",
    "while text != \"stop\":\n",
    "    text=input(\"tell me something interesting:\")\n",
    "    print(\"you told me\", text)\n",
    "print(\"I am stopping\")"
   ]
  },
  {
   "cell_type": "code",
   "execution_count": 8,
   "id": "8e3dfc65-1704-4c82-b16f-7554e0877468",
   "metadata": {},
   "outputs": [
    {
     "name": "stdin",
     "output_type": "stream",
     "text": [
      "tell me something interesting: interesting\n"
     ]
    },
    {
     "name": "stdout",
     "output_type": "stream",
     "text": [
      "you told me interesting\n"
     ]
    },
    {
     "name": "stdin",
     "output_type": "stream",
     "text": [
      "tell me something interesting: stop\n"
     ]
    },
    {
     "name": "stdout",
     "output_type": "stream",
     "text": [
      "you told me stop\n",
      "I am stopping\n"
     ]
    }
   ],
   "source": [
    "text = \" \"\n",
    "while text != \"stop\":\n",
    "    text=input(\"tell me something interesting:\")\n",
    "    print(\"you told me\", text)\n",
    "else:\n",
    "    print(\"I am stopping\")"
   ]
  },
  {
   "cell_type": "code",
   "execution_count": 11,
   "id": "d5d60580-a9c2-4adf-bb28-d3a4439e5a70",
   "metadata": {},
   "outputs": [
    {
     "name": "stdout",
     "output_type": "stream",
     "text": [
      "1\n",
      "3\n",
      "5\n",
      "7\n",
      "9 is no longer less than 8\n"
     ]
    }
   ],
   "source": [
    "i = 1 \n",
    "while i < 8:\n",
    "    print(i)\n",
    "    i = i + 2\n",
    " #   i += 2\n",
    "else:\n",
    "    print(f\"{i} is no longer less than 8\")"
   ]
  },
  {
   "cell_type": "code",
   "execution_count": 13,
   "id": "b3602f0d-cbb3-49e5-aeed-769adb5cb457",
   "metadata": {},
   "outputs": [
    {
     "name": "stdout",
     "output_type": "stream",
     "text": [
      "1\n",
      "2\n",
      "3\n"
     ]
    }
   ],
   "source": [
    "print(1)\n",
    "print(2)\n",
    "print(3)"
   ]
  },
  {
   "cell_type": "code",
   "execution_count": 12,
   "id": "204311c4-d835-47ff-8401-b5c67b966b82",
   "metadata": {},
   "outputs": [
    {
     "name": "stdout",
     "output_type": "stream",
     "text": [
      "1\n",
      "2\n",
      "3\n"
     ]
    }
   ],
   "source": [
    "for num in [1, 2, 3]:\n",
    "    print(num)"
   ]
  },
  {
   "cell_type": "code",
   "execution_count": 14,
   "id": "beb31d7b-d18c-48d6-b318-f076ede727cf",
   "metadata": {},
   "outputs": [
    {
     "name": "stdout",
     "output_type": "stream",
     "text": [
      "1\n",
      "2\n",
      "3\n"
     ]
    }
   ],
   "source": [
    "my_list=[1,2,3]\n",
    "for num in my_list:\n",
    "    print(num)"
   ]
  },
  {
   "cell_type": "code",
   "execution_count": 15,
   "id": "7f18f4da-e11e-4481-b8aa-04aa18d95466",
   "metadata": {},
   "outputs": [
    {
     "name": "stdout",
     "output_type": "stream",
     "text": [
      "[1, 2, 3]\n"
     ]
    }
   ],
   "source": [
    "my_list=list(range(1,4))\n",
    "print(my_list)"
   ]
  },
  {
   "cell_type": "code",
   "execution_count": 17,
   "id": "e57bcdee-21ac-42fd-9036-798496bafac2",
   "metadata": {},
   "outputs": [
    {
     "name": "stdout",
     "output_type": "stream",
     "text": [
      "1\n",
      "2\n",
      "3\n"
     ]
    }
   ],
   "source": [
    "my_list=list(range(1,4))\n",
    "for num in my_list:\n",
    "    print(num)"
   ]
  },
  {
   "cell_type": "code",
   "execution_count": 18,
   "id": "81e7dda8-cb60-4938-a537-16c1e85f869a",
   "metadata": {},
   "outputs": [
    {
     "name": "stdout",
     "output_type": "stream",
     "text": [
      "1\n",
      "2\n",
      "3\n"
     ]
    }
   ],
   "source": [
    "for num in list(range(1,4)):\n",
    "    print(num)"
   ]
  },
  {
   "cell_type": "code",
   "execution_count": 20,
   "id": "16c30d72-1345-489b-9608-cc890d85aaab",
   "metadata": {},
   "outputs": [
    {
     "name": "stdout",
     "output_type": "stream",
     "text": [
      "1\n",
      "2\n",
      "3\n",
      "4\n",
      "5\n",
      "6\n",
      "7\n",
      "8\n",
      "9\n"
     ]
    }
   ],
   "source": [
    "for num in range(1,10):\n",
    "    print(num)"
   ]
  },
  {
   "cell_type": "code",
   "execution_count": 21,
   "id": "8f37ab14-e1d9-4ecf-b65e-8018495ba48d",
   "metadata": {},
   "outputs": [
    {
     "name": "stdout",
     "output_type": "stream",
     "text": [
      "1\n",
      "3\n",
      "5\n",
      "7\n",
      "9\n"
     ]
    }
   ],
   "source": [
    "for num in range(1,10,2):\n",
    "    print(num)"
   ]
  },
  {
   "cell_type": "code",
   "execution_count": 26,
   "id": "ecb39203-5f80-47de-80f7-729bb0ca3c98",
   "metadata": {},
   "outputs": [
    {
     "name": "stdout",
     "output_type": "stream",
     "text": [
      "My fav fruit is apple\n",
      "My fav fruit is banana\n",
      "My fav fruit is watermelon\n"
     ]
    }
   ],
   "source": [
    "fruits= [\"apple\", \"banana\", \"watermelon\"]\n",
    "for i in fruits:\n",
    "    print(f\"My fav fruit is {i}\") "
   ]
  },
  {
   "cell_type": "code",
   "execution_count": 27,
   "id": "293e046a-0998-4d38-9767-49ef171a3e12",
   "metadata": {},
   "outputs": [
    {
     "name": "stdout",
     "output_type": "stream",
     "text": [
      "44\n",
      "68\n",
      "-24\n",
      "10\n",
      "6\n",
      "110\n"
     ]
    }
   ],
   "source": [
    "my_list=[34, 58, -34, 0, -4, 100]\n",
    "for num in my_list:\n",
    "    num += 10\n",
    "    print(num)"
   ]
  },
  {
   "cell_type": "code",
   "execution_count": 30,
   "id": "77c5e0fd-e533-46ae-9956-9937d3ccae6f",
   "metadata": {},
   "outputs": [
    {
     "name": "stdout",
     "output_type": "stream",
     "text": [
      "[10, 0, 44, 68, -24, 10, 6, 110]\n"
     ]
    }
   ],
   "source": [
    "my_list=[34, 58, -34, 0, -4, 100]\n",
    "new_list=[10,0]\n",
    "for num in my_list:\n",
    "    num += 10\n",
    "    new_list.append(num)\n",
    "print(new_list)"
   ]
  },
  {
   "cell_type": "code",
   "execution_count": 32,
   "id": "9be8e08e-3010-41b3-a53b-534e882c910c",
   "metadata": {},
   "outputs": [
    {
     "name": "stdout",
     "output_type": "stream",
     "text": [
      "b!!!\n",
      "a!!!\n",
      "n!!!\n",
      "a!!!\n",
      "n!!!\n",
      "a!!!\n"
     ]
    }
   ],
   "source": [
    "fruit=\"banana\"\n",
    "for i in fruit:\n",
    "    x= i + \"!!!\"\n",
    "    print(x)"
   ]
  },
  {
   "cell_type": "code",
   "execution_count": 33,
   "id": "9ec51929-dcf8-4f12-85e8-07bcd9747ed9",
   "metadata": {},
   "outputs": [
    {
     "name": "stdout",
     "output_type": "stream",
     "text": [
      "1&a\n",
      "2&b\n"
     ]
    }
   ],
   "source": [
    "my_tuple_list= [(1, \"a\"), (2, \"b\")]\n",
    "for num,letter in my_tuple_list:\n",
    "    print(str(num)+\"&\"+letter)\n"
   ]
  },
  {
   "cell_type": "code",
   "execution_count": 34,
   "id": "41d45490-a2e3-4127-93ee-32e9c4190e65",
   "metadata": {},
   "outputs": [
    {
     "name": "stdout",
     "output_type": "stream",
     "text": [
      "Type of 1452 is  <class 'int'>\n",
      "Type of 11.23 is  <class 'float'>\n",
      "Type of (1+2j) is  <class 'complex'>\n",
      "Type of True is  <class 'bool'>\n",
      "Type of w3resource is  <class 'str'>\n",
      "Type of (0, -1) is  <class 'tuple'>\n",
      "Type of [5, 12] is  <class 'list'>\n",
      "Type of {'class': 'V', 'section': 'A'} is  <class 'dict'>\n"
     ]
    }
   ],
   "source": [
    "datalist = [1452, 11.23, 1+2j, True, 'w3resource', (0, -1), [5, 12], {\"class\":'V', \"section\":'A'}]\n",
    "for element in datalist:\n",
    "    print(f\"Type of {element} is \", type(element))"
   ]
  },
  {
   "cell_type": "code",
   "execution_count": null,
   "id": "d8c7c4fa-1a3a-4320-b5c4-c87f343d8584",
   "metadata": {},
   "outputs": [],
   "source": []
  }
 ],
 "metadata": {
  "kernelspec": {
   "display_name": "Python 3 (ipykernel)",
   "language": "python",
   "name": "python3"
  },
  "language_info": {
   "codemirror_mode": {
    "name": "ipython",
    "version": 3
   },
   "file_extension": ".py",
   "mimetype": "text/x-python",
   "name": "python",
   "nbconvert_exporter": "python",
   "pygments_lexer": "ipython3",
   "version": "3.9.7"
  }
 },
 "nbformat": 4,
 "nbformat_minor": 5
}
