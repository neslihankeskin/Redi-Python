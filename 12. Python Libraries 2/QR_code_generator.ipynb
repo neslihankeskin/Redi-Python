{
 "cells": [
  {
   "cell_type": "markdown",
   "id": "300e6d1e",
   "metadata": {},
   "source": [
    "## QR code generator \n",
    "\n",
    "### Process\n",
    "- install all the libraries needed \n",
    "- import the required libraries\n",
    "- create a function that collects a text and converts it to a qrcode \n",
    "- show the qrcode \n",
    "- save the QR code as an image "
   ]
  },
  {
   "cell_type": "markdown",
   "id": "f8d073f6",
   "metadata": {},
   "source": [
    "### Libraries needed \n",
    "- qrcode"
   ]
  },
  {
   "cell_type": "code",
   "execution_count": null,
   "id": "d92b071d",
   "metadata": {},
   "outputs": [],
   "source": [
    "%pip install qrcode"
   ]
  },
  {
   "cell_type": "code",
   "execution_count": null,
   "id": "1f8c1be1",
   "metadata": {},
   "outputs": [],
   "source": [
    "%pip uninstall Image"
   ]
  },
  {
   "cell_type": "code",
   "execution_count": null,
   "id": "22156f29",
   "metadata": {},
   "outputs": [],
   "source": [
    "import qrcode"
   ]
  },
  {
   "cell_type": "code",
   "execution_count": null,
   "id": "af050425",
   "metadata": {},
   "outputs": [],
   "source": [
    "# This function generate a qrcode from a text \n",
    "\n",
    "def create_qrcode(text:str):\n",
    "    \n",
    "    qr = qrcode.QRCode(\n",
    "        version = 1,\n",
    "        error_correction = qrcode.constants.ERROR_CORRECT_L,\n",
    "        box_size = 10,\n",
    "        border = 2)\n",
    "    \n",
    "    qr.add_data(text)\n",
    "    qr.make(fit=True)\n",
    "    \n",
    "    img= qr.make_image(fill_color=\"black\", back_color=\"white\")\n",
    "    \n",
    "    return img"
   ]
  },
  {
   "cell_type": "code",
   "execution_count": null,
   "id": "2fb21570",
   "metadata": {},
   "outputs": [],
   "source": [
    "sample_text = \"https://www.askpython.com/python/examples/display-images-using-python\"\n",
    "\n",
    "text_qrcode = create_qrcode(sample_text) "
   ]
  },
  {
   "cell_type": "code",
   "execution_count": null,
   "id": "3d7d74af",
   "metadata": {},
   "outputs": [],
   "source": [
    "# display the qrcode generated \n",
    "text_qrcode.show()"
   ]
  },
  {
   "cell_type": "code",
   "execution_count": null,
   "id": "c11cd844",
   "metadata": {},
   "outputs": [],
   "source": [
    "# save the QR code generated as a image  \n",
    "text_qrcode.save(\"qrcode.png\")"
   ]
  },
  {
   "cell_type": "code",
   "execution_count": null,
   "id": "e693e91a",
   "metadata": {},
   "outputs": [],
   "source": []
  }
 ],
 "metadata": {
  "kernelspec": {
   "display_name": "cartoonizer_env",
   "language": "python",
   "name": "cartoonizer_env"
  },
  "language_info": {
   "codemirror_mode": {
    "name": "ipython",
    "version": 3
   },
   "file_extension": ".py",
   "mimetype": "text/x-python",
   "name": "python",
   "nbconvert_exporter": "python",
   "pygments_lexer": "ipython3",
   "version": "3.10.5"
  }
 },
 "nbformat": 4,
 "nbformat_minor": 5
}
