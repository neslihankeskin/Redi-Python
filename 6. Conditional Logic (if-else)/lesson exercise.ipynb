{
 "cells": [
  {
   "cell_type": "code",
   "execution_count": 9,
   "id": "807da267-70db-401f-bfc6-643920f79be6",
   "metadata": {},
   "outputs": [],
   "source": [
    "x = [\"banana\", \"cherry\", \"apple\"]"
   ]
  },
  {
   "cell_type": "code",
   "execution_count": 10,
   "id": "5033b632-f200-414e-8751-21d702d8bcc6",
   "metadata": {},
   "outputs": [
    {
     "data": {
      "text/plain": [
       "list"
      ]
     },
     "execution_count": 10,
     "metadata": {},
     "output_type": "execute_result"
    }
   ],
   "source": [
    "type(x)"
   ]
  },
  {
   "cell_type": "code",
   "execution_count": 3,
   "id": "8ac0422f-71ff-4ddd-8b15-404533df397f",
   "metadata": {},
   "outputs": [],
   "source": [
    "y= list((\"apple\", \"banana\", \"cherry\"))"
   ]
  },
  {
   "cell_type": "code",
   "execution_count": 4,
   "id": "99dd9c9e-ffe1-43de-aaad-d3028e56dfd1",
   "metadata": {},
   "outputs": [
    {
     "data": {
      "text/plain": [
       "list"
      ]
     },
     "execution_count": 4,
     "metadata": {},
     "output_type": "execute_result"
    }
   ],
   "source": [
    "type(y)"
   ]
  },
  {
   "cell_type": "code",
   "execution_count": 5,
   "id": "57de8f1b-9b92-47ae-ba33-1d33580e07ee",
   "metadata": {},
   "outputs": [
    {
     "name": "stdout",
     "output_type": "stream",
     "text": [
      "['apple', 'banana', 'cherry']\n"
     ]
    }
   ],
   "source": [
    "print(y)"
   ]
  },
  {
   "cell_type": "code",
   "execution_count": 11,
   "id": "8f673740-7098-443e-b831-d8c13cb126ca",
   "metadata": {},
   "outputs": [
    {
     "data": {
      "text/plain": [
       "['apple', 'banana', 'cherry']"
      ]
     },
     "execution_count": 11,
     "metadata": {},
     "output_type": "execute_result"
    }
   ],
   "source": [
    "x.sort()\n",
    "x"
   ]
  },
  {
   "cell_type": "code",
   "execution_count": 13,
   "id": "7aa9733e-054b-435b-828c-5f595987f488",
   "metadata": {},
   "outputs": [
    {
     "data": {
      "text/plain": [
       "[-34, -5, 0, 3, 8, 67]"
      ]
     },
     "execution_count": 13,
     "metadata": {},
     "output_type": "execute_result"
    }
   ],
   "source": [
    "my_num=[-5, 67, 0, -34, 3, 8]\n",
    "my_num.sort()\n",
    "my_num"
   ]
  },
  {
   "cell_type": "code",
   "execution_count": 17,
   "id": "937f551c-8809-46ab-85d7-8aa961b3b6dd",
   "metadata": {},
   "outputs": [
    {
     "data": {
      "text/plain": [
       "[-34, -5, 0, 3, 5, 5, 5, 8, 67]"
      ]
     },
     "execution_count": 17,
     "metadata": {},
     "output_type": "execute_result"
    }
   ],
   "source": [
    "#my_num.append(5)\n",
    "#my_num\n",
    "my_num.sort()\n",
    "my_num"
   ]
  },
  {
   "cell_type": "code",
   "execution_count": 18,
   "id": "87d23a31-3388-4a6e-87ef-b9622d960d8f",
   "metadata": {},
   "outputs": [],
   "source": [
    "del my_num[0]"
   ]
  },
  {
   "cell_type": "code",
   "execution_count": 19,
   "id": "4fed1ca8-2399-4c2a-b64b-ffc05e063301",
   "metadata": {},
   "outputs": [
    {
     "data": {
      "text/plain": [
       "[-5, 0, 3, 5, 5, 5, 8, 67]"
      ]
     },
     "execution_count": 19,
     "metadata": {},
     "output_type": "execute_result"
    }
   ],
   "source": [
    "my_num"
   ]
  },
  {
   "cell_type": "code",
   "execution_count": 20,
   "id": "90fb8ae1-4b9d-47e8-ad12-29422295b5fb",
   "metadata": {},
   "outputs": [
    {
     "data": {
      "text/plain": [
       "[-5, 0, 3, 8, 67]"
      ]
     },
     "execution_count": 20,
     "metadata": {},
     "output_type": "execute_result"
    }
   ],
   "source": [
    "del my_num[3:6]\n",
    "my_num"
   ]
  },
  {
   "cell_type": "code",
   "execution_count": 22,
   "id": "61e5fd90-4308-4cb3-89ff-03be16559356",
   "metadata": {},
   "outputs": [
    {
     "name": "stdout",
     "output_type": "stream",
     "text": [
      "the number of elements in my list is:  5\n"
     ]
    }
   ],
   "source": [
    "print(\"the number of elements in my list is: \", len(my_num))"
   ]
  },
  {
   "cell_type": "code",
   "execution_count": 41,
   "id": "7a94b99a-2dc8-44c6-b584-e9ac6d2cbf57",
   "metadata": {},
   "outputs": [
    {
     "name": "stdout",
     "output_type": "stream",
     "text": [
      "[-5, 67, 0, -34, 3, 8]\n",
      "[-34, -5, 0, 3, 8, 67]\n"
     ]
    }
   ],
   "source": [
    "my_num=[-5, 67, 0, -34, 3, 8]\n",
    "#sorted_my_num=my_num.sort()\n",
    "print(my_num)\n",
    "#print(sorted_my_num)\n",
    "sorted_list = (sorted(my_num))\n",
    "print(sorted_list)"
   ]
  },
  {
   "cell_type": "code",
   "execution_count": 42,
   "id": "51548bd2-f9e1-4753-9496-3eb80e98cf5f",
   "metadata": {},
   "outputs": [
    {
     "data": {
      "text/plain": [
       "[-34, -5, 0, 3, 8, 67]"
      ]
     },
     "execution_count": 42,
     "metadata": {},
     "output_type": "execute_result"
    }
   ],
   "source": [
    "my_num2=my_num.copy()\n",
    "my_num2.sort()\n",
    "my_num2"
   ]
  },
  {
   "cell_type": "code",
   "execution_count": 38,
   "id": "a80b4bba-da7b-4891-a6b3-2ee9e9b1a963",
   "metadata": {},
   "outputs": [
    {
     "name": "stdout",
     "output_type": "stream",
     "text": [
      "range(0, 5)\n"
     ]
    }
   ],
   "source": [
    "print(range(5))"
   ]
  },
  {
   "cell_type": "code",
   "execution_count": 39,
   "id": "0b4a860e-0e01-4882-9a70-2b58c0fe7c77",
   "metadata": {},
   "outputs": [
    {
     "data": {
      "text/plain": [
       "[0, 1, 2, 3, 4]"
      ]
     },
     "execution_count": 39,
     "metadata": {},
     "output_type": "execute_result"
    }
   ],
   "source": [
    "list(range(5))"
   ]
  },
  {
   "cell_type": "code",
   "execution_count": null,
   "id": "39add777-140f-4c8a-b936-528991f771ee",
   "metadata": {},
   "outputs": [],
   "source": [
    "my_list=[0,1,2,3,4,5]"
   ]
  },
  {
   "cell_type": "code",
   "execution_count": 31,
   "id": "41b484fd-0dd3-475d-9482-edde612f6b81",
   "metadata": {},
   "outputs": [],
   "source": [
    "my_list2=list(range(2,8))"
   ]
  },
  {
   "cell_type": "code",
   "execution_count": 33,
   "id": "d9ec5fdb-5fcb-4556-91c0-1be78ed9b85d",
   "metadata": {},
   "outputs": [
    {
     "data": {
      "text/plain": [
       "[2, 3, 4, 5, 6, 7]"
      ]
     },
     "execution_count": 33,
     "metadata": {},
     "output_type": "execute_result"
    }
   ],
   "source": [
    "my_list2 #2,3,4,5,6,7"
   ]
  },
  {
   "cell_type": "code",
   "execution_count": 34,
   "id": "44aedad7-ab13-4c9f-b0dc-0631f15be8a3",
   "metadata": {},
   "outputs": [],
   "source": [
    "orginal_list=list(range(5,10))"
   ]
  },
  {
   "cell_type": "code",
   "execution_count": 35,
   "id": "067f8c58-fa1f-4ad9-b527-6125b611c225",
   "metadata": {},
   "outputs": [
    {
     "data": {
      "text/plain": [
       "[5, 6, 7, 8, 9]"
      ]
     },
     "execution_count": 35,
     "metadata": {},
     "output_type": "execute_result"
    }
   ],
   "source": [
    "orginal_list"
   ]
  },
  {
   "cell_type": "code",
   "execution_count": 36,
   "id": "33869500-a1dc-4717-b739-fbc8b680f628",
   "metadata": {},
   "outputs": [],
   "source": [
    "new_list=orginal_list.copy()"
   ]
  },
  {
   "cell_type": "code",
   "execution_count": 37,
   "id": "fb8ed01a-c1e4-4c08-b117-2599adea7cb7",
   "metadata": {},
   "outputs": [
    {
     "data": {
      "text/plain": [
       "[5, 6, 7, 8, 9]"
      ]
     },
     "execution_count": 37,
     "metadata": {},
     "output_type": "execute_result"
    }
   ],
   "source": [
    "new_list"
   ]
  },
  {
   "cell_type": "code",
   "execution_count": 49,
   "id": "f3ab7835-f3a6-41be-b4e6-00ef6fd54f67",
   "metadata": {},
   "outputs": [
    {
     "name": "stdout",
     "output_type": "stream",
     "text": [
      "[1, 2, 3, 4, 5]\n",
      "[1, 2, 3, 4, 5]\n",
      "[1, 2, 128, 4, 5]\n"
     ]
    }
   ],
   "source": [
    "#Copy a list\n",
    "original_list = list(range(1, 6))\n",
    "print(original_list)\n",
    "new_list = original_list.copy()\n",
    "new_list[2] = 128 #changed 3rd value to 128\n",
    "print(original_list)\n",
    "print(new_list)"
   ]
  },
  {
   "cell_type": "code",
   "execution_count": 50,
   "id": "73ad1ab5-ceac-4ed1-a2d0-48d359ae6dd3",
   "metadata": {},
   "outputs": [
    {
     "name": "stdout",
     "output_type": "stream",
     "text": [
      "[1, 2, 3, 4, 5]\n",
      "[1, 2, 128, 4, 5]\n",
      "[1, 2, 128, 4, 5]\n"
     ]
    }
   ],
   "source": [
    "original_list = list(range(1, 6))\n",
    "print(original_list)\n",
    "new_list = original_list\n",
    "new_list[2] = 128\n",
    "print(original_list)\n",
    "print(new_list)"
   ]
  },
  {
   "cell_type": "code",
   "execution_count": 51,
   "id": "9e31d0fe-b5c2-4ac6-b3a2-2b758e4ec255",
   "metadata": {},
   "outputs": [],
   "source": [
    "new_list[]=new_list.append(15)"
   ]
  },
  {
   "cell_type": "code",
   "execution_count": 52,
   "id": "65980d0a-8448-4308-88b5-2883f6563577",
   "metadata": {},
   "outputs": [
    {
     "data": {
      "text/plain": [
       "[1, 2, 128, 4, 5, 15]"
      ]
     },
     "execution_count": 52,
     "metadata": {},
     "output_type": "execute_result"
    }
   ],
   "source": [
    "new_list"
   ]
  },
  {
   "cell_type": "code",
   "execution_count": 53,
   "id": "4c438af2-3645-4357-ba03-604f49677671",
   "metadata": {},
   "outputs": [],
   "source": [
    "new_list.insert(1,67)"
   ]
  },
  {
   "cell_type": "code",
   "execution_count": 54,
   "id": "aec9f9b3-b957-4622-865b-9d86b7249c8e",
   "metadata": {},
   "outputs": [
    {
     "data": {
      "text/plain": [
       "[1, 67, 2, 128, 4, 5, 15]"
      ]
     },
     "execution_count": 54,
     "metadata": {},
     "output_type": "execute_result"
    }
   ],
   "source": [
    "new_list"
   ]
  },
  {
   "cell_type": "code",
   "execution_count": 55,
   "id": "6ad45667-c8ff-432c-9b78-1510126e7dfc",
   "metadata": {},
   "outputs": [],
   "source": [
    "empty_list=[]\n",
    "empty_list2=list()"
   ]
  },
  {
   "cell_type": "code",
   "execution_count": 56,
   "id": "68478175-ff49-4458-be6a-87214ab318ba",
   "metadata": {},
   "outputs": [],
   "source": [
    "empty_dict={}"
   ]
  },
  {
   "cell_type": "code",
   "execution_count": 59,
   "id": "c1e3ee99-18cd-43a2-af1c-1cd3ab1060a2",
   "metadata": {},
   "outputs": [],
   "source": [
    "empty_dic2=dict()"
   ]
  },
  {
   "cell_type": "code",
   "execution_count": 57,
   "id": "7b46d73d-dfec-4c64-a247-247c4072e131",
   "metadata": {},
   "outputs": [],
   "source": [
    "my_dic={\"key\":\"value\"}"
   ]
  },
  {
   "cell_type": "code",
   "execution_count": 60,
   "id": "70a273a5-722d-4e0c-9e26-ee4cd43cffd3",
   "metadata": {},
   "outputs": [
    {
     "data": {
      "text/plain": [
       "'value'"
      ]
     },
     "execution_count": 60,
     "metadata": {},
     "output_type": "execute_result"
    }
   ],
   "source": [
    "my_dic[\"key\"]"
   ]
  },
  {
   "cell_type": "code",
   "execution_count": 69,
   "id": "2d364053-bb5d-4400-877c-0db8bd8be8fd",
   "metadata": {},
   "outputs": [],
   "source": [
    "x = {\"name\" : \"John\", \"age\" : 36}"
   ]
  },
  {
   "cell_type": "code",
   "execution_count": 71,
   "id": "700ed4d1-11c9-4520-81e1-75f0224078cc",
   "metadata": {},
   "outputs": [
    {
     "data": {
      "text/plain": [
       "'John'"
      ]
     },
     "execution_count": 71,
     "metadata": {},
     "output_type": "execute_result"
    }
   ],
   "source": [
    "x[\"name\"] #   my_dict['key']=value"
   ]
  },
  {
   "cell_type": "code",
   "execution_count": 63,
   "id": "75cc6438-059c-4f68-9e34-b4a3eb3bdde2",
   "metadata": {},
   "outputs": [
    {
     "name": "stdout",
     "output_type": "stream",
     "text": [
      "John\n"
     ]
    }
   ],
   "source": [
    "x[\"age\"]"
   ]
  },
  {
   "cell_type": "code",
   "execution_count": 72,
   "id": "799de999-b2a8-49bd-8bac-e58b05401dfb",
   "metadata": {},
   "outputs": [
    {
     "name": "stdout",
     "output_type": "stream",
     "text": [
      "John\n"
     ]
    }
   ],
   "source": [
    "print(x[\"name\"])"
   ]
  },
  {
   "cell_type": "code",
   "execution_count": 64,
   "id": "9fb4853e-14b1-4a6a-a8fb-7c1b7eba842f",
   "metadata": {},
   "outputs": [
    {
     "name": "stdout",
     "output_type": "stream",
     "text": [
      "36\n"
     ]
    }
   ],
   "source": [
    "print(x.get('age'))"
   ]
  },
  {
   "cell_type": "code",
   "execution_count": 65,
   "id": "b6cccb8a-0849-4fa4-953f-69628551e58b",
   "metadata": {},
   "outputs": [
    {
     "name": "stdout",
     "output_type": "stream",
     "text": [
      "36\n"
     ]
    }
   ],
   "source": [
    "print(x[\"age\"])"
   ]
  },
  {
   "cell_type": "code",
   "execution_count": 67,
   "id": "774d0fc4-a66a-44e1-b464-6ae70969a243",
   "metadata": {
    "tags": []
   },
   "outputs": [
    {
     "name": "stdout",
     "output_type": "stream",
     "text": [
      "{'name': 'John', 'age': 36, 'Job': 'teacher'}\n"
     ]
    }
   ],
   "source": [
    "x[\"Job\"]=\"teacher\"\n",
    "print(x)"
   ]
  },
  {
   "cell_type": "code",
   "execution_count": 73,
   "id": "ea25f28a-648e-44bf-b5b8-d34e249a08f7",
   "metadata": {},
   "outputs": [
    {
     "data": {
      "text/plain": [
       "'eggplant'"
      ]
     },
     "execution_count": 73,
     "metadata": {},
     "output_type": "execute_result"
    }
   ],
   "source": [
    "new_dict={\"vegatable\": \"eggplant\", \"fruits\": \"apple\"}\n",
    "new_dict[\"vegatable\"]"
   ]
  },
  {
   "cell_type": "code",
   "execution_count": 74,
   "id": "956bee61-450b-4278-b846-f8b470059fef",
   "metadata": {},
   "outputs": [
    {
     "name": "stdout",
     "output_type": "stream",
     "text": [
      "{'name': 'John', 'age': 36, 'Job': 'lawyer'}\n"
     ]
    }
   ],
   "source": [
    "x[\"Job\"]=\"lawyer\"\n",
    "print(x)"
   ]
  },
  {
   "cell_type": "code",
   "execution_count": 75,
   "id": "33c40304-87b7-4e18-a852-ed161f23dd0f",
   "metadata": {},
   "outputs": [
    {
     "name": "stdout",
     "output_type": "stream",
     "text": [
      "{'name': 'John', 'age': 36, 'Job': 'lawyer', 'gender': 'male'}\n"
     ]
    }
   ],
   "source": [
    "x[\"gender\"]=\"male\"\n",
    "print(x)"
   ]
  },
  {
   "cell_type": "code",
   "execution_count": 76,
   "id": "2ab0d328-74a8-42e8-9d9f-77b1b4e5197c",
   "metadata": {},
   "outputs": [
    {
     "data": {
      "text/plain": [
       "dict_keys(['name', 'age', 'Job', 'gender'])"
      ]
     },
     "execution_count": 76,
     "metadata": {},
     "output_type": "execute_result"
    }
   ],
   "source": [
    "x.keys()"
   ]
  },
  {
   "cell_type": "code",
   "execution_count": 77,
   "id": "2aa87e14-3091-49b5-bc1b-97958f033a9a",
   "metadata": {},
   "outputs": [
    {
     "data": {
      "text/plain": [
       "dict_values(['John', 36, 'lawyer', 'male'])"
      ]
     },
     "execution_count": 77,
     "metadata": {},
     "output_type": "execute_result"
    }
   ],
   "source": [
    "x.values()"
   ]
  },
  {
   "cell_type": "code",
   "execution_count": 78,
   "id": "a277fe0d-6faa-4f63-a5dc-732c4e5aa60a",
   "metadata": {},
   "outputs": [
    {
     "data": {
      "text/plain": [
       "dict_items([('name', 'John'), ('age', 36), ('Job', 'lawyer'), ('gender', 'male')])"
      ]
     },
     "execution_count": 78,
     "metadata": {},
     "output_type": "execute_result"
    }
   ],
   "source": [
    "x.items()"
   ]
  },
  {
   "cell_type": "code",
   "execution_count": 79,
   "id": "e708c563-f73b-434e-ba48-52ce9e1a9a5d",
   "metadata": {},
   "outputs": [
    {
     "data": {
      "text/plain": [
       "dict_items"
      ]
     },
     "execution_count": 79,
     "metadata": {},
     "output_type": "execute_result"
    }
   ],
   "source": [
    "my_dict=x.items()"
   ]
  },
  {
   "cell_type": "code",
   "execution_count": 80,
   "id": "05744d04-f62c-4404-8a3c-efa111a2deba",
   "metadata": {},
   "outputs": [],
   "source": [
    "my_bool=True\n"
   ]
  },
  {
   "cell_type": "code",
   "execution_count": 83,
   "id": "9794e0d8-9096-409d-bae5-fd0e2787d4ab",
   "metadata": {},
   "outputs": [
    {
     "data": {
      "text/plain": [
       "False"
      ]
     },
     "execution_count": 83,
     "metadata": {},
     "output_type": "execute_result"
    }
   ],
   "source": [
    "2==3"
   ]
  },
  {
   "cell_type": "code",
   "execution_count": null,
   "id": "67935161-954b-402d-aed8-c181d13a74fa",
   "metadata": {},
   "outputs": [],
   "source": [
    "a=2"
   ]
  },
  {
   "cell_type": "code",
   "execution_count": 84,
   "id": "c7423570-a1ac-4708-a9ea-b8b99573a51d",
   "metadata": {},
   "outputs": [
    {
     "data": {
      "text/plain": [
       "True"
      ]
     },
     "execution_count": 84,
     "metadata": {},
     "output_type": "execute_result"
    }
   ],
   "source": [
    "2!=3"
   ]
  },
  {
   "cell_type": "code",
   "execution_count": 85,
   "id": "748c4ca6-66c2-40c2-89d1-ad8659bfed8d",
   "metadata": {},
   "outputs": [
    {
     "data": {
      "text/plain": [
       "False"
      ]
     },
     "execution_count": 85,
     "metadata": {},
     "output_type": "execute_result"
    }
   ],
   "source": [
    "2>3"
   ]
  },
  {
   "cell_type": "code",
   "execution_count": 86,
   "id": "f166e036-cf68-4d2f-b483-ce4df073b8cf",
   "metadata": {},
   "outputs": [
    {
     "data": {
      "text/plain": [
       "True"
      ]
     },
     "execution_count": 86,
     "metadata": {},
     "output_type": "execute_result"
    }
   ],
   "source": [
    "3>2"
   ]
  },
  {
   "cell_type": "code",
   "execution_count": 87,
   "id": "20c211d8-1e45-4a7d-a05a-e2974a9f8ada",
   "metadata": {},
   "outputs": [],
   "source": [
    "a=50"
   ]
  },
  {
   "cell_type": "code",
   "execution_count": 88,
   "id": "c8d1a2eb-e2d3-437a-b599-199104e17690",
   "metadata": {},
   "outputs": [
    {
     "name": "stdout",
     "output_type": "stream",
     "text": [
      "a is greater than 5\n"
     ]
    }
   ],
   "source": [
    "if a>5:\n",
    "    print(\"a is greater than 5\")\n",
    "else:\n",
    "    print(\"a is not greater than 5\")\n"
   ]
  },
  {
   "cell_type": "code",
   "execution_count": 98,
   "id": "c7312121-8bfa-4081-951c-df7e7bda9d48",
   "metadata": {},
   "outputs": [],
   "source": [
    "a=50\n",
    "b=7"
   ]
  },
  {
   "cell_type": "code",
   "execution_count": 106,
   "id": "39d3e114-1cef-48dc-9eeb-f35d0df5d1c7",
   "metadata": {},
   "outputs": [
    {
     "name": "stdout",
     "output_type": "stream",
     "text": [
      "50 is greater than 7\n"
     ]
    }
   ],
   "source": [
    "if a>b: #condition 1\n",
    "    print(f\"{a} is greater than {b}\") #statement 1\n",
    "elif b>a: #condition 2\n",
    "    print(f\"{b} is greater than {a}\") #statement 2\n",
    "else: #when above conditons are False\n",
    "    print(f\"{a} is equal to {b}\") #statement of else"
   ]
  },
  {
   "cell_type": "code",
   "execution_count": 102,
   "id": "7c4c101b-3942-47bc-96f4-c496eef7d10f",
   "metadata": {},
   "outputs": [
    {
     "data": {
      "text/plain": [
       "'{a} is greater than {b}'"
      ]
     },
     "execution_count": 102,
     "metadata": {},
     "output_type": "execute_result"
    }
   ],
   "source": [
    "\"{a} is greater than {b}\""
   ]
  },
  {
   "cell_type": "code",
   "execution_count": 107,
   "id": "6175fd96-cba6-4a22-9e33-4089b651f922",
   "metadata": {},
   "outputs": [
    {
     "data": {
      "text/plain": [
       "1"
      ]
     },
     "execution_count": 107,
     "metadata": {},
     "output_type": "execute_result"
    }
   ],
   "source": [
    "a=5\n",
    "a%2"
   ]
  },
  {
   "cell_type": "code",
   "execution_count": 110,
   "id": "6541ebdb-8608-41ef-bb56-096b9ee55f02",
   "metadata": {},
   "outputs": [
    {
     "name": "stdout",
     "output_type": "stream",
     "text": [
      "5 is a odd number\n"
     ]
    }
   ],
   "source": [
    "if a%2==1:\n",
    "    print(f\"{a} is a odd number\")\n",
    "elif a%2==0:\n",
    "    print(f\"{a} is an even number\")"
   ]
  },
  {
   "cell_type": "code",
   "execution_count": 144,
   "id": "32fa7186-97af-4fc1-8ca8-03ce5ee53a1f",
   "metadata": {},
   "outputs": [],
   "source": [
    "a=9\n",
    "b=7"
   ]
  },
  {
   "cell_type": "code",
   "execution_count": 145,
   "id": "7589d16d-ef5d-4d4b-af2c-43c69567b4bd",
   "metadata": {},
   "outputs": [
    {
     "name": "stdout",
     "output_type": "stream",
     "text": [
      "9 is greater than 7 and 9 is an odd number\n"
     ]
    }
   ],
   "source": [
    "if a>b and a%2==1: #condition 1\n",
    "    print(f\"{a} is greater than {b} and {a} is an odd number\") #statement 1\n",
    "elif a>b and a%2==0: #condition 2\n",
    "    print(f\"{a} is greater than {b} and {a} is an even number\") #statement 2\n",
    "elif b>a and a%2==1: #condition 3\n",
    "    print(f\"{b} is greater than {a} and {a} is an odd number\") #statement 3\n",
    "elif b>a and a%2==0: #condition 4\n",
    "    print(f\"{b} is greater than {a} and {a} is an even number\") #statement 4\n",
    "else: #when above conditons are False\n",
    "    print(f\"{a} is equal to {b}\") #statement of else"
   ]
  },
  {
   "cell_type": "code",
   "execution_count": 131,
   "id": "e0e21477-a658-4858-8534-aa7996e3092f",
   "metadata": {},
   "outputs": [
    {
     "name": "stdout",
     "output_type": "stream",
     "text": [
      "apple is not a fruit not a vegatable\n"
     ]
    }
   ],
   "source": [
    "fruits= [\"banana\", \"watermelon\"]\n",
    "vegatables = [\"broccoli\", \"carots\", \"onions\"]\n",
    "\n",
    "if \"apple\" in fruits:\n",
    "    print(\"apple is a fruit\")\n",
    "elif \"apple\" in vegatables:\n",
    "    print(\"apple is a vegatable\")\n",
    "else:\n",
    "    print(\"apple is not a fruit not a vegatable\")"
   ]
  },
  {
   "cell_type": "code",
   "execution_count": 135,
   "id": "9e2f46ac-ce11-4e62-8d67-63a75f331532",
   "metadata": {},
   "outputs": [
    {
     "name": "stdin",
     "output_type": "stream",
     "text": [
      "Enter degrees (c):\n",
      " twenty\n"
     ]
    },
    {
     "ename": "ValueError",
     "evalue": "invalid literal for int() with base 10: 'twenty'",
     "output_type": "error",
     "traceback": [
      "\u001b[0;31m---------------------------------------------------------------------------\u001b[0m",
      "\u001b[0;31mValueError\u001b[0m                                Traceback (most recent call last)",
      "Input \u001b[0;32mIn [135]\u001b[0m, in \u001b[0;36m<cell line: 1>\u001b[0;34m()\u001b[0m\n\u001b[0;32m----> 1\u001b[0m degree \u001b[38;5;241m=\u001b[39m \u001b[38;5;28;43mint\u001b[39;49m\u001b[43m(\u001b[49m\u001b[38;5;28;43minput\u001b[39;49m\u001b[43m(\u001b[49m\u001b[38;5;124;43m'\u001b[39;49m\u001b[38;5;124;43mEnter degrees (c):\u001b[39;49m\u001b[38;5;130;43;01m\\n\u001b[39;49;00m\u001b[38;5;124;43m'\u001b[39;49m\u001b[43m)\u001b[49m\u001b[43m)\u001b[49m\n\u001b[1;32m      3\u001b[0m \u001b[38;5;28;01mif\u001b[39;00m degree \u001b[38;5;241m<\u001b[39m \u001b[38;5;241m0\u001b[39m:\n\u001b[1;32m      4\u001b[0m     \u001b[38;5;28mprint\u001b[39m(\u001b[38;5;124m\"\u001b[39m\u001b[38;5;124mIt\u001b[39m\u001b[38;5;124m'\u001b[39m\u001b[38;5;124ms cold, stay at home\u001b[39m\u001b[38;5;124m\"\u001b[39m)\n",
      "\u001b[0;31mValueError\u001b[0m: invalid literal for int() with base 10: 'twenty'"
     ]
    }
   ],
   "source": [
    "degree = int(input('Enter degrees (c):\\n'))\n",
    "\n",
    "if degree < 0:\n",
    "    print(\"It's cold, stay at home\")\n",
    "elif degree < 20:\n",
    "    print(\"Put a jacket on\")\n",
    "else:\n",
    "    print(\"It's a good weather for a T-shirt\")"
   ]
  },
  {
   "cell_type": "code",
   "execution_count": 140,
   "id": "8eabed32-907d-4690-906e-fd75ef1b6d72",
   "metadata": {},
   "outputs": [
    {
     "name": "stdin",
     "output_type": "stream",
     "text": [
      "Enter your age: 5\n",
      "What is the hour? (0-24)\n",
      " 23\n"
     ]
    },
    {
     "name": "stdout",
     "output_type": "stream",
     "text": [
      "You should be sleeping ...\n"
     ]
    }
   ],
   "source": [
    "age = int(input('Enter your age:'))\n",
    "hour = int(input('What is the hour? (0-24)\\n'))\n",
    "\n",
    "is_late = hour >= 22\n",
    "is_too_young = age <= 12\n",
    "\n",
    "if is_late:\n",
    "    if is_too_young: #it is late and you are young\n",
    "        \n",
    "        print('You should be sleeping ...')\n",
    "    else: #it is late and you are not young\n",
    "        print('Want to watch a movie?') #it is late\n",
    "else: #it is not late\n",
    "    print('Go for a walk!')"
   ]
  },
  {
   "cell_type": "code",
   "execution_count": null,
   "id": "9dd86ba7-6213-4d82-b735-ca0b660d4f66",
   "metadata": {},
   "outputs": [],
   "source": []
  }
 ],
 "metadata": {
  "kernelspec": {
   "display_name": "Python 3 (ipykernel)",
   "language": "python",
   "name": "python3"
  },
  "language_info": {
   "codemirror_mode": {
    "name": "ipython",
    "version": 3
   },
   "file_extension": ".py",
   "mimetype": "text/x-python",
   "name": "python",
   "nbconvert_exporter": "python",
   "pygments_lexer": "ipython3",
   "version": "3.9.7"
  }
 },
 "nbformat": 4,
 "nbformat_minor": 5
}
