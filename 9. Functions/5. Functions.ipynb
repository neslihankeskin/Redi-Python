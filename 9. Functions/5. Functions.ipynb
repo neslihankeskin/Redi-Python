{
 "cells": [
  {
   "cell_type": "markdown",
   "id": "7c7b2f7f-b6ba-443f-ba4b-45f938fbaaaf",
   "metadata": {
    "pycharm": {
     "name": "#%% md\n"
    }
   },
   "source": [
    "# 08 May - Functions\n",
    "\n",
    "\n",
    "![python gif](https://media.giphy.com/media/KAq5w47R9rmTuvWOWa/giphy.gif)\n",
    "\n",
    "## Pre Requisites\n",
    "\n",
    "- (Optional practice) go through exercises on [w3 schools for Python](https://www.w3schools.com/python/exercise.asp?filename=exercise_syntax1) through `Functions` section OR on particular areas that you would like to review. This is entirely optional but good practice! No need to go over `Lambda`, `Classes`, `Inheritance`, or `Modules` as we have not seen these yet.\n",
    "\n",
    "---\n",
    "\n",
    "## Class Curriculum\n",
    "\n",
    "| Section content                                       | Expected time (mins) | Pre - Requirements |\n",
    "| -------------------------------------------           | -------------------- | ------------------ |\n",
    "| Check-in and questions from last class & homework     | 10 minutes           | ❌                 |\n",
    "| Lesson Goals                                          | 5 minutes            | ❌                 |\n",
    "| Continue loops                                        | 30  minutes          | ❌                 |\n",
    "| Break                                                 | 10 minutes           | ❌                 |\n",
    "| Python Functions                                      | 45 - 60 minutes      | ❌                 |\n",
    "| Check-out                                             | 5 minutes            | ❌                 |\n",
    "\n",
    "## Lesson Goal\n",
    "\n",
    "- Good understanding of Loops & Functions\n",
    "- Working on more complex Python exercises"
   ]
  },
  {
   "cell_type": "markdown",
   "id": "27b46485-69b6-4f81-9275-4c80ff63f706",
   "metadata": {},
   "source": [
    "### Cont'D\n",
    "### Important Statements\n",
    "- Break: With the break statement we can stop the loop before it has looped through all the items\n",
    "*Example:*\n",
    "Exit the loop when x is \"banana\":\n",
    "```python\n",
    "fruits = [\"apple\", \"banana\", \"cherry\"]\n",
    "for x in fruits:\n",
    "    print(x)\n",
    "    if x == \"banana\":\n",
    "    break\n",
    "```\n",
    "- Continue: With the continue statement we can stop the current iteration of the loop, and continue with the next\n",
    "*Example:*\n",
    "Do not print banana:\n",
    "```python\n",
    "fruits = [\"apple\", \"banana\", \"cherry\"]\n",
    "for x in fruits:\n",
    "    if x == \"banana\":\n",
    "        continue\n",
    "    print(x)\n",
    "```\n",
    "- Pass: for loops cannot be empty, but if you for some reason have a for loop with no content, put in the pass statement to avoid getting an error.\n",
    "*Example:*\n",
    "```python\n",
    "for x in [0, 1, 2]:\n",
    "    pass\n",
    "```"
   ]
  },
  {
   "cell_type": "code",
   "execution_count": 1,
   "id": "91bc155c-554d-45e5-8e87-3de598dfd43d",
   "metadata": {},
   "outputs": [
    {
     "name": "stdout",
     "output_type": "stream",
     "text": [
      "apple\n",
      "cherry\n"
     ]
    }
   ],
   "source": [
    "fruits = [\"apple\", \"banana\", \"cherry\"]\n",
    "for x in fruits:\n",
    "    if x == \"banana\":\n",
    "        continue\n",
    "    print(x)"
   ]
  },
  {
   "cell_type": "code",
   "execution_count": 2,
   "id": "8d1c3162-ba3a-44da-a022-e7c76db12bbf",
   "metadata": {},
   "outputs": [],
   "source": [
    "for x in [0, 1, 2]:\n",
    "    pass"
   ]
  },
  {
   "cell_type": "markdown",
   "id": "abbe6148-9f3f-4d97-bfd0-5df9ed7706c1",
   "metadata": {},
   "source": [
    "### Exercise 3\n",
    "Write a Python program that prints all the numbers from 0 to 6 except 3 and 6.\n",
    "\n",
    "Note : Use 'continue' statement.\n",
    "\n",
    "![exercise3](../images/exercise3.png)"
   ]
  },
  {
   "cell_type": "code",
   "execution_count": 3,
   "id": "e92cb2c4-59a1-431e-b8b9-0f9d03780e50",
   "metadata": {},
   "outputs": [
    {
     "name": "stdout",
     "output_type": "stream",
     "text": [
      "0/1/2/4/5/"
     ]
    }
   ],
   "source": [
    "for i in range(6):\n",
    "    if (i == 3 or i == 6):\n",
    "        continue\n",
    "    print(i, end=\"/\")\n",
    "#print(\"\\n\")"
   ]
  },
  {
   "cell_type": "code",
   "execution_count": 4,
   "id": "3438bf1e-2707-476f-9ed0-e7fd848f95ad",
   "metadata": {},
   "outputs": [
    {
     "name": "stdout",
     "output_type": "stream",
     "text": [
      "0 1 2 4 5 \n",
      "\n"
     ]
    }
   ],
   "source": [
    "for x in range(6):\n",
    "    if (x == 3 or x==6):\n",
    "        continue\n",
    "    print(x,end=' ')\n",
    "print(\"\\n\")\n"
   ]
  },
  {
   "cell_type": "markdown",
   "id": "379c4736-2245-4836-9bd4-e5af39d3c743",
   "metadata": {},
   "source": [
    "### Exercise 4\n",
    "Write a Python program that counts character \"a\" in a given string"
   ]
  },
  {
   "cell_type": "code",
   "execution_count": 5,
   "id": "3e646689-2d64-40d0-82b7-66afd40bcad7",
   "metadata": {},
   "outputs": [
    {
     "name": "stdout",
     "output_type": "stream",
     "text": [
      "Found 5 letters 'e' in the given string\n"
     ]
    }
   ],
   "source": [
    "s = 'this is a random string with several letters \\'e\\''\n",
    "counter = 0\n",
    "for character in s:\n",
    "    if character == 's':\n",
    "        counter += 1 \n",
    "print('Found', counter, 'letters \\'e\\' in the given string')"
   ]
  },
  {
   "cell_type": "markdown",
   "id": "b2ad0b2e-438c-42bb-b6bb-16401d33b7f5",
   "metadata": {},
   "source": [
    "### Exercise 5\n",
    "Write a Python program to count the number of even and odd numbers from a series of numbers.\n",
    "\n",
    "![exercise5-1](../images/exercise5-1.png)\n",
    "![exercise5-2](../images/exercise5-2.png)\n",
    "\n",
    "![exercise5-flowchart](../images/exercise5-flowchart.png)"
   ]
  },
  {
   "cell_type": "code",
   "execution_count": 6,
   "id": "980c4087-a314-4dde-ba02-98f6e58853ab",
   "metadata": {},
   "outputs": [
    {
     "name": "stdout",
     "output_type": "stream",
     "text": [
      "Odd 1\n",
      "Even 2\n",
      "Odd 3\n",
      "Even 4\n",
      "Odd 5\n",
      "Even 6\n",
      "Odd 7\n",
      "Even 8\n",
      "Odd 9\n",
      "Number of even numbers : 4\n",
      "Number of odd numbers : 5\n"
     ]
    }
   ],
   "source": [
    "numbers = (1, 2, 3, 4, 5, 6, 7, 8, 9) # Declaring the tuple\n",
    "count_odd = 0\n",
    "count_even = 0\n",
    "even=[]\n",
    "odd=[]\n",
    "for x in numbers:\n",
    "        if not x % 2:\n",
    "            count_even+=1\n",
    "            print(\"Even\", x)  \n",
    "        else:\n",
    "            count_odd+=1\n",
    "            print(\"Odd\",x)                  \n",
    "print(\"Number of even numbers :\",count_even)\n",
    "print(\"Number of odd numbers :\",count_odd)\n",
    "#output: even=[2,4,6,8]"
   ]
  },
  {
   "cell_type": "markdown",
   "id": "28913e4f-5bfc-4118-97e2-fe7b9d84c1bb",
   "metadata": {},
   "source": [
    "### Functions\n",
    "\n",
    "- What is a **function**?\n",
    "- A function lets us create a set of instructions that we can run when needed. Functions are essential in Python and in many other programming languages. They help us create meaningful programs, because they allow us to decompose a program into manageable parts, and they promote readability and code reuse.\n",
    "\n",
    "\n",
    "  ```python\n",
    "  def my_test_function(a):\n",
    "      return a\n",
    "  ```\n",
    "\n",
    "\n",
    "  A **function** is a sequence of steps or tasks (written in a block of code), which may or may not take in `argument`. Whenever we _call_ a function, we execute this defined set of steps (with any _arguments_ passed in). The above example function takes in some value and simply _returns_, or gives us back, this value when we _call_ it like so: `my_test_function(12) # evaluates to 12`\n",
    "\n",
    "\n",
    "    ```python\n",
    "    #1. print a string\n",
    "    print(\"hello word\")\n",
    "\n",
    "    #2. print a string via variable\n",
    "    a=\"hello word\"\n",
    "    print(a)\n",
    "\n",
    "    #3. print a string via function\n",
    "    def redi():\n",
    "        print(\"hello world\")\n",
    "    redi()\n",
    "    ```"
   ]
  },
  {
   "cell_type": "code",
   "execution_count": 1,
   "id": "9f1eb808-bd5b-4bfe-95c4-392d9fa18444",
   "metadata": {},
   "outputs": [
    {
     "name": "stdout",
     "output_type": "stream",
     "text": [
      "RediSchool\n"
     ]
    }
   ],
   "source": [
    "#1. print a string\n",
    "print(\"RediSchool\")"
   ]
  },
  {
   "cell_type": "code",
   "execution_count": 2,
   "id": "87250b9c-0053-481f-b0aa-2931bee623ec",
   "metadata": {},
   "outputs": [
    {
     "name": "stdout",
     "output_type": "stream",
     "text": [
      "RediSchool\n"
     ]
    }
   ],
   "source": [
    "#2. print a string via variable\n",
    "variable=\"RediSchool\"\n",
    "print(variable)"
   ]
  },
  {
   "cell_type": "code",
   "execution_count": 3,
   "id": "c0506f42-0560-4170-80c3-7548126ff40a",
   "metadata": {},
   "outputs": [],
   "source": [
    "#3. print a string via function\n",
    "def redi():\n",
    "    return(\"Redischool\")"
   ]
  },
  {
   "cell_type": "code",
   "execution_count": 4,
   "id": "daa6448e-5550-4f07-ae8d-01f9648264d4",
   "metadata": {},
   "outputs": [
    {
     "data": {
      "text/plain": [
       "'Redischool'"
      ]
     },
     "execution_count": 4,
     "metadata": {},
     "output_type": "execute_result"
    }
   ],
   "source": [
    "redi()"
   ]
  },
  {
   "cell_type": "markdown",
   "id": "5d3f627a-66dd-40c1-a2ef-e60b8e95ec02",
   "metadata": {},
   "source": [
    "\n",
    "### Exercise 1: create and call a function that prints \"Hello, World!\"\n",
    "\n",
    "\n",
    "*Hint: Modify the code you wrote in the previous task so that this happens within a function that you define.*"
   ]
  },
  {
   "cell_type": "code",
   "execution_count": 7,
   "id": "deb23002-2195-45cc-9260-3d8216fdb4f0",
   "metadata": {},
   "outputs": [
    {
     "name": "stdout",
     "output_type": "stream",
     "text": [
      "Hello World!\n"
     ]
    }
   ],
   "source": [
    "def hello_world():\n",
    "    print(\"Hello World!\")\n",
    "hello_world()"
   ]
  },
  {
   "cell_type": "markdown",
   "id": "ed823549-1783-45a0-baf0-1e00da23c021",
   "metadata": {},
   "source": [
    "### Exercise 2: create a function that returns the string \"Hello, World!\". Call this function and print the output."
   ]
  },
  {
   "cell_type": "code",
   "execution_count": 6,
   "id": "18101663-eb54-4bf5-87fe-e44119246624",
   "metadata": {},
   "outputs": [
    {
     "name": "stdout",
     "output_type": "stream",
     "text": [
      "Hello World!\n"
     ]
    }
   ],
   "source": [
    "def hello_world():\n",
    "    return(\"Hello World!\")\n",
    "print(hello_world())"
   ]
  },
  {
   "cell_type": "markdown",
   "id": "1344d9e9-e9e8-460b-ba7b-c7a1f097fa45",
   "metadata": {},
   "source": [
    "### Exercise 3: modify your function so you can greet a specific name: \"Hello, Person\"\n",
    "\n",
    "In other words:\n",
    "\n",
    "```python\n",
    "greet(\"Nesli\")\n",
    "# expected output -> \"Hello, Nesli\"\n",
    "```\n"
   ]
  },
  {
   "cell_type": "code",
   "execution_count": 15,
   "id": "3cfa243d-d895-4ebd-81ca-116853b55c1c",
   "metadata": {},
   "outputs": [],
   "source": [
    "def greet(name):\n",
    "    a=\"Hello, \" + name\n",
    "    return(a)\n"
   ]
  },
  {
   "cell_type": "code",
   "execution_count": 16,
   "id": "92fc84b0-5ff9-4c5e-b9bc-4425d1d2f424",
   "metadata": {},
   "outputs": [
    {
     "data": {
      "text/plain": [
       "'Hello, Subarna'"
      ]
     },
     "execution_count": 16,
     "metadata": {},
     "output_type": "execute_result"
    }
   ],
   "source": [
    "greet(\"Subarna\")"
   ]
  },
  {
   "cell_type": "markdown",
   "id": "4c6f82e9-71f4-439e-be5b-f5ab22ac1346",
   "metadata": {},
   "source": [
    "### Function terms\n",
    "\n",
    "There is a `def` keyword, so that the Python interpreter knows that this is a function `def`inition, function name (`greet`), arguments (`name` in this case), and a body (the set of instructions, which is the part that follows the colon and is indented one level on the left).\n",
    "\n",
    "To run this function, we must call it. This is the syntax to call the function: `greet('Nesli')`\n",
    "We can execute this function as many times as we want to.\n",
    "\n",
    "The name of the function, `greet`, is very important. It should be descriptive,\n",
    "so anyone calling it can imagine what the function does.\n",
    "\n",
    "#### Parameters or Arguments\n",
    "\n",
    "The terms `parameter` and `argument` can be used for the same thing: information that are passed into a function. \n",
    "\n",
    "**From a function's perspective:**\n",
    "\n",
    "A `parameter` is the variable listed inside the parentheses in the function definition.\n",
    "\n",
    "```py\n",
    "def greet(name):\n",
    "    print('Hello, ' + name)\n",
    "```\n",
    "Above `name` is a parameter.\n",
    "\n",
    "An `argument` is the value that is sent to the function when it is called.\n",
    "\n",
    "```py\n",
    "greet(\"Nesli\")\n",
    "```\n",
    "Above `Nesli` is an argument.\n",
    "\n",
    "**Number of Arguments**\n",
    "- You must call the function with the number of arguments that your function expects (number of parameters that you defined), **not less, not more!!**\n",
    "\n",
    "```py\n",
    "def full_name(firstname, lastname): #2 parameters\n",
    "    print(firstname + \" \" + lastname)\n",
    "\n",
    "full_name(\"Neslihan\", \"Keskin\") #2 arguments\n",
    "\n",
    "Output: \"Neslihan Keskin\"\n",
    "```"
   ]
  },
  {
   "cell_type": "code",
   "execution_count": 20,
   "id": "4f436df8-3067-450c-a34d-3579c181820e",
   "metadata": {},
   "outputs": [
    {
     "name": "stdout",
     "output_type": "stream",
     "text": [
      "nesli keskin\n"
     ]
    }
   ],
   "source": [
    "def full_name(first, last):\n",
    "    print(first + \" \" + last)\n",
    "full_name(\"nesli\", \"keskin\")"
   ]
  },
  {
   "cell_type": "markdown",
   "id": "e2302b1f-94f7-4f74-95f7-2f2d67bf03a0",
   "metadata": {},
   "source": [
    "### Exercise 4: \n",
    "- Write a Python function called max_of_two expects two integer returns the bigger number. \n"
   ]
  },
  {
   "cell_type": "code",
   "execution_count": 27,
   "id": "76c65a75-890a-402c-b8d8-b8e08f913d88",
   "metadata": {},
   "outputs": [],
   "source": [
    "def max_of_two(x, y):\n",
    "    if x>y:\n",
    "        return(x)\n",
    "    elif y>x:\n",
    "        return(y)   "
   ]
  },
  {
   "cell_type": "code",
   "execution_count": 28,
   "id": "8930cad1-88ca-4178-9aa3-84c446f2706c",
   "metadata": {},
   "outputs": [
    {
     "data": {
      "text/plain": [
       "False"
      ]
     },
     "execution_count": 28,
     "metadata": {},
     "output_type": "execute_result"
    }
   ],
   "source": [
    "\"10\">\"5\""
   ]
  },
  {
   "cell_type": "code",
   "execution_count": 35,
   "id": "f6933314-34c9-42bb-af02-3922c9897bfa",
   "metadata": {},
   "outputs": [
    {
     "data": {
      "text/plain": [
       "'aatemeh'"
      ]
     },
     "execution_count": 35,
     "metadata": {},
     "output_type": "execute_result"
    }
   ],
   "source": [
    "max_of_two(\"aaesli\", \"aatemeh\")"
   ]
  },
  {
   "cell_type": "markdown",
   "id": "8b4c2de7-e742-4564-b5df-374a34ba2f4f",
   "metadata": {},
   "source": [
    "### Exercise 5: \n",
    "- Create a function called `your_age` that expects an `age` argument and returns \"you are young\" if age is less than 30, otherwise \"your sipirit is still young ;)\n",
    "\"\n",
    "- Call this function twice, once with the value less than 30 and once with higher than 30 and print the outputs of these calls.\n"
   ]
  },
  {
   "cell_type": "code",
   "execution_count": 36,
   "id": "c21dc403-df92-43f7-b420-ea77962da33a",
   "metadata": {},
   "outputs": [],
   "source": [
    "def your_age(age):\n",
    "    if age<30:\n",
    "        return(\"You are young\")\n",
    "    else:\n",
    "        return(\"your sipirit is still young ;) \")"
   ]
  },
  {
   "cell_type": "code",
   "execution_count": 37,
   "id": "9987d852-cfce-454e-87e2-5ba7648f05b9",
   "metadata": {},
   "outputs": [
    {
     "data": {
      "text/plain": [
       "'your sipirit is still young ;) '"
      ]
     },
     "execution_count": 37,
     "metadata": {},
     "output_type": "execute_result"
    }
   ],
   "source": [
    "your_age(35)"
   ]
  },
  {
   "cell_type": "markdown",
   "id": "0c7377a1-baab-4d68-801e-e56ce7187795",
   "metadata": {},
   "source": [
    "- Modify the function by using `input` ask user to enter an age and apply the same logic above."
   ]
  },
  {
   "cell_type": "code",
   "execution_count": 39,
   "id": "4a292496-e730-4731-8139-463e13aafa38",
   "metadata": {},
   "outputs": [],
   "source": [
    "def your_age():\n",
    "    age=int(input(\"Enter your age: \"))\n",
    "    if age<30:\n",
    "        return(\"You are young\")\n",
    "    else:\n",
    "        return(\"your sipirit is still young ;) \")"
   ]
  },
  {
   "cell_type": "code",
   "execution_count": 40,
   "id": "b1d8d351-2919-4152-b3f7-db87b5313bd3",
   "metadata": {},
   "outputs": [
    {
     "name": "stdout",
     "output_type": "stream",
     "text": [
      "Enter your age:  25\n"
     ]
    },
    {
     "data": {
      "text/plain": [
       "'You are young'"
      ]
     },
     "execution_count": 40,
     "metadata": {},
     "output_type": "execute_result"
    }
   ],
   "source": [
    "your_age()"
   ]
  },
  {
   "cell_type": "markdown",
   "id": "3e347548-1ceb-4cbd-acb5-de4330c5a470",
   "metadata": {},
   "source": [
    "### Exercise 6: create a function that return circle area by given its radius as an argument.\n",
    "\n",
    "*Hint:*\n",
    "Formula: **\" circle area = 3.14 * radius<sup>2</sup> \"**"
   ]
  },
  {
   "cell_type": "code",
   "execution_count": 41,
   "id": "f21e0795-8cce-4308-90d9-82cec7d99863",
   "metadata": {},
   "outputs": [],
   "source": [
    "def circle_area(radius):\n",
    "    #area= 3.14 * radius * radius\n",
    "    #area= 3.14 * (radius ** 2)\n",
    "    pi=3.14\n",
    "    area= pi * (radius ** 2)\n",
    "    return(area)"
   ]
  },
  {
   "cell_type": "code",
   "execution_count": 43,
   "id": "88f338e3-ccdc-47ec-ab3d-35ffce15a98d",
   "metadata": {},
   "outputs": [
    {
     "data": {
      "text/plain": [
       "28.26"
      ]
     },
     "execution_count": 43,
     "metadata": {},
     "output_type": "execute_result"
    }
   ],
   "source": [
    "circle_area(3)"
   ]
  },
  {
   "cell_type": "code",
   "execution_count": 42,
   "id": "b8b89102-7ee7-4a3b-8e55-7139c5976137",
   "metadata": {},
   "outputs": [
    {
     "data": {
      "text/plain": [
       "28.259999999999998"
      ]
     },
     "execution_count": 42,
     "metadata": {},
     "output_type": "execute_result"
    }
   ],
   "source": [
    "3.14*3*3"
   ]
  },
  {
   "cell_type": "markdown",
   "id": "bfb7bda7-440e-4760-86ef-aa9103e239c4",
   "metadata": {},
   "source": [
    "### Exercise 7: function with for loop\n",
    "- Write a Python function to sum all the numbers in a list."
   ]
  },
  {
   "cell_type": "code",
   "execution_count": 46,
   "id": "dedfccdc-0e0d-4b36-88cc-efd36688d504",
   "metadata": {},
   "outputs": [],
   "source": [
    "def summary(num_list):\n",
    "    total=0\n",
    "    for num in num_list:\n",
    "        total=total + num\n",
    "    return(total) "
   ]
  },
  {
   "cell_type": "code",
   "execution_count": 47,
   "id": "69756c97-8767-43aa-bce5-c0d519ee74e6",
   "metadata": {},
   "outputs": [
    {
     "data": {
      "text/plain": [
       "26"
      ]
     },
     "execution_count": 47,
     "metadata": {},
     "output_type": "execute_result"
    }
   ],
   "source": [
    "my_num_list= [8,2,7,6,3]\n",
    "summary(my_num_list) #26 , "
   ]
  },
  {
   "cell_type": "markdown",
   "id": "d7f034c6-23cb-4427-b0ab-3ea88c497769",
   "metadata": {},
   "source": [
    "### Extra materials \n",
    "\n",
    "https://www.w3schools.com/python/python_functions.asp"
   ]
  },
  {
   "cell_type": "code",
   "execution_count": null,
   "id": "a8bf4e8d-b648-41d0-9c48-afa7f9d85b59",
   "metadata": {},
   "outputs": [],
   "source": []
  }
 ],
 "metadata": {
  "kernelspec": {
   "display_name": "Python 3 (ipykernel)",
   "language": "python",
   "name": "python3"
  },
  "language_info": {
   "codemirror_mode": {
    "name": "ipython",
    "version": 3
   },
   "file_extension": ".py",
   "mimetype": "text/x-python",
   "name": "python",
   "nbconvert_exporter": "python",
   "pygments_lexer": "ipython3",
   "version": "3.9.7"
  },
  "vscode": {
   "interpreter": {
    "hash": "2d63cf38a8ddc3101a2c0f32b71647b4096a78b8efd4c1bbcf73ffeaf57c27fa"
   }
  }
 },
 "nbformat": 4,
 "nbformat_minor": 5
}
